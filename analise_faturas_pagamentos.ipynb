{
 "cells": [
  {
   "cell_type": "code",
   "execution_count": null,
   "id": "32d6ca70",
   "metadata": {},
   "outputs": [],
   "source": [
    "import pandas as pd\n",
    "import numpy as np\n",
    "import matplotlib.pyplot as plt"
   ]
  },
  {
   "cell_type": "code",
   "execution_count": null,
   "id": "31dead30",
   "metadata": {},
   "outputs": [],
   "source": [
    "# Carregar o dataset CSV\n",
    "df_csv = pd.read_csv(\"default_of_credit_card_clients__courseware_version_1_21_19_old.csv\")"
   ]
  },
  {
   "cell_type": "code",
   "execution_count": null,
   "id": "87eb5a59",
   "metadata": {},
   "outputs": [],
   "source": [
    "# Exercício 1: Criar listas com os nomes das características financeiras\n",
    "bill_columns = ['BILL_AMT1','BILL_AMT2','BILL_AMT3','BILL_AMT4','BILL_AMT5','BILL_AMT6']\n",
    "pay_columns  = ['PAY_AMT1','PAY_AMT2','PAY_AMT3','PAY_AMT4','PAY_AMT5','PAY_AMT6']"
   ]
  },
  {
   "cell_type": "code",
   "execution_count": null,
   "id": "981d74c1",
   "metadata": {},
   "outputs": [],
   "source": [
    "# Exercício 2: Usar .describe() nas características de valor da fatura\n",
    "print(\"Resumo estatístico das faturas:\")\n",
    "print(df_csv[bill_columns].describe())"
   ]
  },
  {
   "cell_type": "code",
   "execution_count": null,
   "id": "e729af58",
   "metadata": {},
   "outputs": [],
   "source": [
    "# Exercício 3: Histogramas das características de valor da fatura\n",
    "fig, axes = plt.subplots(2, 3, figsize=(18, 10))\n",
    "axes = axes.flatten()\n",
    "for idx, col in enumerate(bill_columns):\n",
    "    axes[idx].hist(df_csv[col], bins=20, color='lightcoral', edgecolor='black')\n",
    "    axes[idx].set_title(f'Histograma de {col}')\n",
    "    axes[idx].set_xlabel('Valor da Fatura')\n",
    "    axes[idx].set_ylabel('Frequência')\n",
    "plt.tight_layout()\n",
    "plt.show()"
   ]
  },
  {
   "cell_type": "code",
   "execution_count": null,
   "id": "159ba245",
   "metadata": {},
   "outputs": [],
   "source": [
    "# Exercício 4: Resumo estatístico das características de pagamento\n",
    "print(\"\\nResumo estatístico dos pagamentos:\")\n",
    "print(df_csv[pay_columns].describe())"
   ]
  },
  {
   "cell_type": "code",
   "execution_count": null,
   "id": "8b3b13a1",
   "metadata": {},
   "outputs": [],
   "source": [
    "# Exercício 5: Histogramas das características de pagamento com rotação no eixo x\n",
    "fig, axes = plt.subplots(2, 3, figsize=(18, 10))\n",
    "axes = axes.flatten()\n",
    "for idx, col in enumerate(pay_columns):\n",
    "    axes[idx].hist(df_csv[col], bins=20, color='mediumseagreen', edgecolor='black')\n",
    "    axes[idx].set_title(f'Histograma de {col}')\n",
    "    axes[idx].set_xlabel('Valor do Pagamento')\n",
    "    axes[idx].set_ylabel('Frequência')\n",
    "    axes[idx].tick_params(axis='x', rotation=45)\n",
    "plt.tight_layout()\n",
    "plt.show()"
   ]
  },
  {
   "cell_type": "code",
   "execution_count": null,
   "id": "3b61bb2e",
   "metadata": {},
   "outputs": [],
   "source": [
    "# Exercício 6: Contar valores iguais a zero\n",
    "print(\"\\nContagem de pagamentos iguais a zero:\")\n",
    "print((df_csv[pay_columns] == 0).sum())"
   ]
  },
  {
   "cell_type": "code",
   "execution_count": null,
   "id": "584a9550",
   "metadata": {},
   "outputs": [],
   "source": [
    "# Exercício 7: Transformação log10 para pagamentos diferentes de zero\n",
    "df_nonzero_payments = df_csv[pay_columns].replace(0, np.nan)\n",
    "log_transformed = df_nonzero_payments.apply(np.log10)\n",
    "\n",
    "# Histogramas log-transformados\n",
    "fig, axes = plt.subplots(2, 3, figsize=(18, 10))\n",
    "axes = axes.flatten()\n",
    "for idx, col in enumerate(pay_columns):\n",
    "    axes[idx].hist(log_transformed[col].dropna(), bins=30, color='steelblue', edgecolor='black')\n",
    "    axes[idx].set_title(f'Log10 de {col}')\n",
    "    axes[idx].set_xlabel('log10(valor)')\n",
    "    axes[idx].set_ylabel('Frequência')\n",
    "plt.tight_layout()\n",
    "plt.show()"
   ]
  }
 ],
 "metadata": {},
 "nbformat": 4,
 "nbformat_minor": 5
}
